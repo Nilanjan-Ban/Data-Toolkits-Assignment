{
  "nbformat": 4,
  "nbformat_minor": 0,
  "metadata": {
    "colab": {
      "provenance": []
    },
    "kernelspec": {
      "name": "python3",
      "display_name": "Python 3"
    },
    "language_info": {
      "name": "python"
    }
  },
  "cells": [
    {
      "cell_type": "code",
      "execution_count": null,
      "metadata": {
        "id": "1R8WkcQLssqC"
      },
      "outputs": [],
      "source": [
        "#THEORY QUESTIONS START HERE\n",
        "\n",
        "'''1. What is NumPy, and why is it widely used in Python?\n",
        "\n",
        "Ans:  NumPy (short for Numerical Python) is a fundamental open-source library for scientific computing in Python. It provides support for large, multi-dimensional arrays and matrices, along with a collection of mathematical functions to operate on these data structures efficiently.\n",
        "NUMPY.ORG\n",
        "\n",
        "Key Features of NumPy:\n",
        "\n",
        "Multidimensional Array Object: At its core, NumPy offers the ndarray, a powerful n-dimensional array object that facilitates efficient computation and manipulation of homogeneous data.\n",
        "NUMPY.ORG\n",
        "\n",
        "Mathematical Functions: NumPy includes a wide array of mathematical operations, such as basic linear algebra, statistical operations, and more, enabling users to perform complex calculations with ease.\n",
        "NUMPY.ORG\n",
        "\n",
        "Integration with Other Libraries: NumPy serves as a foundation for many other scientific libraries in Python, including SciPy for advanced computations and Matplotlib for data visualization.\n",
        "EN.WIKIPEDIA.ORG\n",
        "\n",
        "Why NumPy is Widely Used in Python:\n",
        "\n",
        "Performance: NumPy is implemented in C, allowing for operations that are significantly faster than standard Python lists, especially for large datasets.\n",
        "EN.WIKIPEDIA.ORG\n",
        "\n",
        "Memory Efficiency: The homogeneous nature of ndarray objects ensures that data is stored in contiguous memory blocks, leading to efficient memory usage and faster access.\n",
        "EN.WIKIPEDIA.ORG\n",
        "\n",
        "Ease of Use: NumPy's syntax is user-friendly and integrates seamlessly with Python, making it accessible for both beginners and experienced practitioners in scientific computing.\n",
        "\n",
        "In summary, NumPy's combination of performance, efficiency, and versatility has made it an indispensable tool for numerical and scientific applications in Python.\n",
        "\n",
        "\n",
        "'''"
      ]
    },
    {
      "cell_type": "code",
      "source": [
        "'''2.  How does broadcasting work in NumPy\n",
        "\n",
        "Ans: In NumPy, broadcasting refers to the ability to perform element-wise operations on arrays of different shapes. This feature enables NumPy to handle arithmetic operations without explicitly reshaping or replicating data, leading to more efficient computations.\n",
        "\n",
        "How Broadcasting Works:\n",
        "\n",
        "Broadcasting operates under a set of rules that determine how arrays with different shapes are aligned for element-wise operations:\n",
        "\n",
        "Alignment of Dimensions: NumPy compares the shapes of the arrays element-wise, starting from the trailing (rightmost) dimensions.\n",
        "\n",
        "Compatibility Conditions: Two dimensions are compatible if:\n",
        "\n",
        "They are equal, or\n",
        "One of them is 1.\n",
        "Broadcasting Process: If the dimensions are compatible, NumPy treats the array with a dimension of 1 as if it were expanded to match the other array's dimension. This expansion is conceptual; the data is not actually copied in memory.\n",
        "'''\n"
      ],
      "metadata": {
        "id": "ogD_pg5DteFN"
      },
      "execution_count": null,
      "outputs": []
    },
    {
      "cell_type": "code",
      "source": [
        "'''3.What is a Pandas DataFrame?\n",
        "Ans:  A Pandas DataFrame is a two-dimensional, size-mutable, and potentially heterogeneous tabular data structure with labeled axes (rows and columns). It is one of the primary data structures in the Pandas library, designed for efficient data manipulation and analysis in Python.\n",
        "PANDAS.PYDATA.ORG\n",
        "\n",
        "Key Characteristics:\n",
        "\n",
        "Two-Dimensional Structure: Data is organized in rows and columns, similar to a table or spreadsheet.\n",
        "\n",
        "Labeled Axes: Both rows and columns have labels, allowing for easy access and manipulation of data.\n",
        "\n",
        "Heterogeneous Data: Columns can contain data of different types (e.g., integers, floats, strings).\n",
        "\n",
        "Size-Mutable: DataFrames can be resized by adding or removing columns and rows.\n",
        "\n",
        "'''"
      ],
      "metadata": {
        "id": "EOkR1s84teVx"
      },
      "execution_count": null,
      "outputs": []
    },
    {
      "cell_type": "code",
      "source": [
        "'''4. Explain the use of the groupby() method in Pandas.\n",
        "\n",
        "Ans:In Pandas, the groupby() method is a powerful tool for grouping data based on one or more criteria and performing operations on these groups.\n",
        "This process is often referred to as the \"split-apply-combine\" strategy:\n",
        "\n",
        "Splitting: The data is divided into groups based on specified keys or columns.\n",
        "Applying: A function is applied to each group independently, such as aggregation, transformation, or filtration.\n",
        "Combining: The results of the function applications are combined into a new DataFrame or Series.\n",
        "Basic Usage of groupby()\n",
        "import pandas as pd\n",
        "\n",
        "# Sample data\n",
        "data = {\n",
        "    'Category': ['A', 'A', 'B', 'B', 'C', 'C'],\n",
        "    'Values': [10, 15, 10, 25, 10, 30]\n",
        "}\n",
        "\n",
        "df = pd.DataFrame(data)\n",
        "\n",
        "# Group by 'Category' and calculating the mean of each group\n",
        "grouped = df.groupby('Category').mean()\n",
        "\n",
        "print(grouped)\n",
        "\n",
        "\n",
        "  The output will be as follows:\n",
        "          Values\n",
        "Category\n",
        "A           12.5\n",
        "B           17.5\n",
        "C           20.0\n",
        "'''\n",
        "\n"
      ],
      "metadata": {
        "id": "OIr3GYLd29rv"
      },
      "execution_count": null,
      "outputs": []
    },
    {
      "cell_type": "code",
      "source": [
        "'''5.Why is Seaborn preferred for statistical visualizations?\n",
        "\n",
        "Ans: Seaborn is a powerful Python data visualization library built on top of Matplotlib, designed specifically for statistical data visualization. It offers a high-level interface for creating attractive and informative statistical graphics with ease.\n",
        "NOBLEDESKTOP.COM\n",
        "\n",
        "Key Advantages of Seaborn for Statistical Visualizations:\n",
        "\n",
        "Simplified Syntax and High-Level Interface: Seaborn provides functions that enable the creation of complex statistical plots with minimal code, streamlining the data visualization process.\n",
        "NOBLEDESKTOP.COM\n",
        "\n",
        "Integration with Pandas DataFrames: Seaborn works seamlessly with Pandas DataFrames, allowing for efficient handling and plotting of structured data without extensive preprocessing.\n",
        "NOBLEDESKTOP.COM\n",
        "\n",
        "Built-in Themes and Color Palettes: Seaborn includes a variety of aesthetically pleasing default themes and color palettes, enhancing the visual appeal of plots without requiring extensive customization.\n",
        "NOBLEDESKTOP.COM\n",
        "\n",
        "Advanced Statistical Plots: Seaborn simplifies the process of creating complex statistical visualizations, such as regression analysis, distribution plots, and categorical plots, making it easier to explore and understand data.\n",
        "KAGGLE.COM\n",
        "\n",
        "Automatic Handling of Statistical Aggregations: Seaborn's internal functions manage statistical aggregations and semantic mappings, converting raw data into meaningful visual representations efficiently.\n",
        "DATASCIENTEST.COM\n",
        "\n",
        "In summary, Seaborn is preferred for statistical visualizations due to its user-friendly interface, seamless integration with data structures, and capabilities for producing visually appealing and informative statistical graphics with minimal effort.\n",
        "\n",
        "\n",
        "'''"
      ],
      "metadata": {
        "id": "iX5pFRKd355y"
      },
      "execution_count": null,
      "outputs": []
    },
    {
      "cell_type": "code",
      "source": [
        "'''6.What are the differences between NumPy arrays and Python lists?\n",
        "\n",
        "Ans: NumPy arrays and Python lists are both used to store collections of data, but they differ significantly in terms of functionality, performance, and usage.\n",
        "\n",
        "Key Differences:\n",
        "\n",
        "Data Type Homogeneity:\n",
        "\n",
        "NumPy Arrays: Require all elements to be of the same data type, ensuring uniform operations across the array.\n",
        "Python Lists: Can contain elements of varying data types, offering greater flexibility but potentially leading to increased memory usage and computational overhead.\n",
        "Performance:\n",
        "\n",
        "NumPy Arrays: Optimized for numerical computations, providing faster performance for mathematical operations due to their contiguous memory allocation and implementation in C.\n",
        "Python Lists: Slower for large-scale numerical computations as they are built for general-purpose use and do not benefit from the same level of optimization.\n",
        "Memory Efficiency:\n",
        "\n",
        "NumPy Arrays: Consume less memory by storing elements in a compact manner, which is advantageous when handling large datasets.\n",
        "Python Lists: Require more memory, especially when storing large numbers of elements, due to the overhead associated with storing type information and pointers for each element.\n",
        "Functionality:\n",
        "\n",
        "NumPy Arrays: Offer a wide range of mathematical and statistical functions, making them ideal for scientific computing tasks.\n",
        "Python Lists: Lack built-in support for vectorized operations, necessitating the use of loops for element-wise computations, which can be less efficient.\n",
        "Size Mutability:\n",
        "\n",
        "NumPy Arrays: Have a fixed size upon creation. Resizing an array involves creating a new array and copying the data, which can be computationally expensive.\n",
        "Python Lists: Dynamic in size, allowing for easy appending or removal of elements without the need to create a new list.\n",
        "When to Use Each:\n",
        "\n",
        "NumPy Arrays: Preferable when performing numerical operations on large datasets, as they provide efficient storage and faster computation.\n",
        "Python Lists: Suitable for general-purpose applications where the collection contains heterogeneous data types or when dynamic resizing is required.\n",
        "In summary, while both structures are useful, NumPy arrays are specifically tailored for numerical and scientific computing, offering performance and memory efficiency advantages over Python lists in such contexts.\n",
        "'''\n"
      ],
      "metadata": {
        "id": "SwrZDkmM4QFo"
      },
      "execution_count": null,
      "outputs": []
    },
    {
      "cell_type": "code",
      "source": [
        "'''7.What is a heatmap, and when should it be used?\n",
        "\n",
        "Ans:A heatmap is a data visualization technique that employs color gradients to represent the magnitude of data points in a two-dimensional space. By mapping data values to colors, heatmaps facilitate the quick identification of patterns, trends, and anomalies within complex datasets.\n",
        "EN.WIKIPEDIA.ORG\n",
        "\n",
        "Common Applications of Heatmaps:\n",
        "\n",
        "Website User Behavior Analysis:\n",
        "\n",
        "Click Tracking: Visualizing areas of a webpage that receive the most user clicks to assess element engagement.\n",
        "Scroll Depth Analysis: Determining how far users scroll on a page to evaluate content visibility and placement.\n",
        "CONTENTSQUARE.COM\n",
        "Business Analytics:\n",
        "\n",
        "Financial Data Representation: Displaying stock market data or sales performance across different regions or products.\n",
        "Customer Behavior Analysis: Identifying purchasing patterns or product preferences among customer segments.\n",
        "Scientific Research:\n",
        "\n",
        "Genomic Data Visualization: Representing gene expression levels across different conditions or time points.\n",
        "Environmental Data Mapping: Illustrating temperature variations or pollution levels across geographical areas.\n",
        "When to Use Heatmaps:\n",
        "\n",
        "Pattern Recognition: To quickly identify correlations, clusters, or outliers in large datasets.\n",
        "Resource Allocation: To determine areas requiring attention or improvement, such as sections of a website with low user engagement.\n",
        "Comparative Analysis: To evaluate changes over time or differences between categories, aiding in strategic decision-making.\n",
        "In summary, heatmaps are versatile tools that transform complex data into intuitive visual formats, making them invaluable across various fields for enhanced data interpretation and informed decision-making.\n",
        "\n",
        "\n",
        "'''"
      ],
      "metadata": {
        "id": "KBDP7eUx4wTn"
      },
      "execution_count": null,
      "outputs": []
    },
    {
      "cell_type": "code",
      "source": [
        "'''8. What does the term “vectorized operation” mean in NumPy?\n",
        "\n",
        "Ans:  In NumPy, a vectorized operation refers to the process of performing element-wise operations on entire arrays without the explicit use of loops in Python code. This approach leverages low-level implementations, often in C, to execute operations more efficiently than traditional Python loops.\n",
        "PYTHONLIKEYOUMEANIT.COM\n",
        "\n",
        "Key Advantages of Vectorized Operations:\n",
        "\n",
        "Performance: Vectorized operations are highly optimized and can significantly outperform equivalent operations implemented with Python loops.\n",
        "GEEKSFORGEEKS.ORG\n",
        "\n",
        "Code Simplicity: By eliminating explicit loops, vectorized operations lead to more concise and readable code.\n",
        "\n",
        "Example:\n",
        "\n",
        "Consider the task of adding two arrays element-wise:\n",
        "\n",
        "import numpy as np\n",
        "\n",
        "# Creating two NumPy arrays\n",
        "a = np.array([1, 2, 3])\n",
        "b = np.array([4, 5, 6])\n",
        "\n",
        "# Vectorized addition\n",
        "c = a + b  # Result: array([5, 7, 9])\n",
        "In this example, a + b performs an element-wise addition without the need for an explicit loop, demonstrating the efficiency and simplicity of vectorized operations.\n",
        "\n",
        "'''\n",
        "\n",
        "\n"
      ],
      "metadata": {
        "id": "HfXJugaH5HH3"
      },
      "execution_count": null,
      "outputs": []
    },
    {
      "cell_type": "code",
      "source": [
        "'''9. How does Matplotlib differ from Plotly?\n",
        "\n",
        "Ans:Matplotlib and Plotly are both prominent Python libraries for data visualization, each offering distinct features tailored to different needs.\n",
        "\n",
        "Key Differences:\n",
        "\n",
        "Interactivity:\n",
        "\n",
        "Matplotlib: Primarily generates static plots suitable for publications and reports. While interactivity can be added through additional toolkits, it's not inherent.\n",
        "Plotly: Designed for interactive visualizations, allowing users to zoom, pan, and hover over data points for more details. This makes it ideal for exploratory data analysis and interactive dashboards.\n",
        "DEV.TO\n",
        "Ease of Use and Syntax:\n",
        "\n",
        "Matplotlib: Offers extensive customization but often requires more code to achieve complex visuals. Its imperative style can have a steeper learning curve for intricate plots.\n",
        "Plotly: Provides a high-level API, especially with Plotly Express, enabling the creation of complex visualizations with concise code.\n",
        "DEV.TO\n",
        "Aesthetics and Output:\n",
        "\n",
        "Matplotlib: Highly customizable, allowing fine-grained control over plot elements, which is advantageous for creating publication-quality figures.\n",
        "Plotly: Offers modern and visually appealing default aesthetics, producing polished visuals suitable for web applications.\n",
        "DEV.TO\n",
        "Performance:\n",
        "\n",
        "Matplotlib: Efficient for rendering static plots, even with large datasets.\n",
        "Plotly: Interactivity can introduce performance overhead, making it less performant with very large datasets compared to Matplotlib.\n",
        "DEV.TO\n",
        "Use Cases:\n",
        "\n",
        "Matplotlib: Ideal for creating static, detailed visualizations for academic publications, printed materials, or scenarios where interactivity isn't required.\n",
        "Plotly: Suited for interactive visualizations in web applications, dashboards, or exploratory data analysis where user engagement with the plot is beneficial.\n",
        "In summary, the choice between Matplotlib and Plotly depends on the specific requirements of your project. If you need static, highly customizable plots for traditional media, Matplotlib is appropriate. For interactive, web-ready visualizations, Plotly is the preferred choice.\n",
        "\n",
        "\n",
        "'''"
      ],
      "metadata": {
        "id": "FTEuntMF5leV"
      },
      "execution_count": null,
      "outputs": []
    },
    {
      "cell_type": "code",
      "source": [
        "'''10. What is the significance of hierarchical indexing in Pandas?\n",
        "\n",
        "Ans:Hierarchical indexing, or MultiIndex, is a powerful feature in pandas that allows for multiple levels of indexing on rows and columns. This capability enables the representation and manipulation of higher-dimensional data within a two-dimensional DataFrame, facilitating complex data analyses and operations.\n",
        "\n",
        "Significance of Hierarchical Indexing:\n",
        "\n",
        "Representation of Multi-Dimensional Data:\n",
        "\n",
        "By using multiple index levels, hierarchical indexing allows for the storage and manipulation of data with an arbitrary number of dimensions in a two-dimensional structure like a DataFrame.\n",
        "PANDAS.PYDATA.ORG\n",
        "Enhanced Data Organization:\n",
        "\n",
        "MultiIndex structures enable the grouping of related data, making it easier to manage and analyze datasets with hierarchical relationships.\n",
        "JAKEVDP.GITHUB.IO\n",
        "Simplified Data Selection and Aggregation:\n",
        "\n",
        "With hierarchical indexing, users can perform complex queries, selections, and aggregations based on multiple index levels, streamlining data analysis workflows.\n",
        "'''"
      ],
      "metadata": {
        "id": "5fbxIsdR58gC"
      },
      "execution_count": null,
      "outputs": []
    },
    {
      "cell_type": "code",
      "source": [
        "'''11. What is the role of Seaborn’s pairplot() function?\n",
        "\n",
        "Ans:  Seaborn's pairplot() function is a powerful tool for visualizing pairwise relationships in a dataset. It creates a grid of plots, where each variable in the data is shared across the y-axes in a single row and the x-axes in a single column. The diagonal of this grid typically displays univariate distribution plots, such as histograms or kernel density estimates, to show the distribution of individual variables.\n",
        "SEABORN.PYDATA.ORG\n",
        "\n",
        "Key Features of pairplot():\n",
        "\n",
        "Comprehensive Visualization:\n",
        "\n",
        "Generates a matrix of scatter plots for each pair of variables, facilitating the detection of relationships, trends, and potential anomalies within the dataset.\n",
        "Categorical Differentiation:\n",
        "\n",
        "Utilizes the hue parameter to distinguish data points based on a categorical variable, enhancing the plot's informativeness by adding a layer of categorical separation.\n",
        "SEABORN.PYDATA.ORG\n",
        "Customization Options:\n",
        "\n",
        "Offers parameters like kind to specify the type of plot (e.g., 'scatter', 'kde') and diag_kind to define the plot on the diagonal, allowing for tailored visual representations.\n",
        "SEABORN.PYDATA.ORG\n",
        "Practical Applications:\n",
        "\n",
        "Exploratory Data Analysis (EDA):\n",
        "\n",
        "Assists in understanding the underlying structure of the data by revealing inter-variable relationships and distributions, which is crucial during the initial stages of data analysis.\n",
        "Feature Selection:\n",
        "\n",
        "Aids in identifying which variables have strong correlations, informing decisions about which features to include in predictive modeling.\n",
        "'''"
      ],
      "metadata": {
        "id": "dqG2_ZAr6RIw"
      },
      "execution_count": null,
      "outputs": []
    },
    {
      "cell_type": "code",
      "source": [
        "'''12.What is the purpose of the describe() function in Pandas?\n",
        "\n",
        "Ans:In pandas, the describe() function is a convenient tool that generates descriptive statistics of a DataFrame or Series, summarizing the central tendency, dispersion, and shape of a dataset's distribution, excluding NaN values.\n",
        "PANDAS.PYDATA.ORG\n",
        "\n",
        "Key Features of describe() Function:\n",
        "\n",
        "Numerical Data Summary:\n",
        "\n",
        "For numeric columns, it provides metrics such as:\n",
        "count: Number of non-null entries\n",
        "mean: Average of the values\n",
        "std: Standard deviation\n",
        "min and max: Minimum and maximum values\n",
        "25%, 50%, 75%: Percentiles (Quartiles)\n",
        "Categorical Data Summary:\n",
        "\n",
        "For object (string) or categorical data, it includes:\n",
        "count: Number of non-null entries\n",
        "unique: Number of unique values\n",
        "top: Most frequent value\n",
        "freq: Frequency of the most frequent value\n",
        "'''"
      ],
      "metadata": {
        "id": "q3EvakwR6zP0"
      },
      "execution_count": null,
      "outputs": []
    },
    {
      "cell_type": "code",
      "source": [
        "'''13.Why is handling missing data important in Pandas?\n",
        "\n",
        "Ans:Handling missing data is a critical aspect of data analysis and preprocessing in pandas. Missing values, often represented as NaN (Not a Number) or None, can arise from various sources, such as incomplete data collection or data corruption. Addressing these gaps is essential to ensure the accuracy and reliability of your analyses.\n",
        "\n",
        "Why Handling Missing Data Is Important:\n",
        "\n",
        "Maintaining Data Integrity:\n",
        "\n",
        "Missing values can lead to biased or misleading statistical analyses. For instance, calculating the mean of a dataset with unhandled missing values may yield incorrect results. Properly managing these gaps helps maintain the integrity of your data.\n",
        "Ensuring Compatibility with Analytical Methods:\n",
        "\n",
        "Many machine learning algorithms and statistical methods require complete datasets. Missing data can cause these algorithms to fail or produce inaccurate models. Handling missing values appropriately ensures that your data is compatible with various analytical tools.\n",
        "Preventing Propagation of Errors:\n",
        "\n",
        "In pandas, operations involving missing values generally propagate NaN results. For example, arithmetic operations with NaN will yield NaN, potentially leading to a cascade of missing values in your computations. Addressing missing data early prevents such propagation and maintains the quality of your results.\n",
        "PANDAS.PYDATA.ORG\n",
        "Common Strategies for Handling Missing Data in pandas:\n",
        "\n",
        "Removal:\n",
        "\n",
        "Use dropna() to remove rows or columns containing missing values. This method is straightforward but may lead to significant data loss if many entries are missing.\n",
        "Imputation:\n",
        "\n",
        "Use fillna() to replace missing values with a specific value, such as the mean, median, or mode of the column. This approach preserves the dataset's size and can be tailored to the nature of your data.\n",
        "Interpolation:\n",
        "\n",
        "Use interpolate() to estimate missing values based on other data points, which is particularly useful for time-series data.\n",
        "By effectively handling missing data, you enhance the robustness and credibility of your data analysis, leading to more accurate and meaningful insights.\n",
        "\n",
        "\n",
        "'''"
      ],
      "metadata": {
        "id": "Eep3CCLr7K_L"
      },
      "execution_count": null,
      "outputs": []
    },
    {
      "cell_type": "code",
      "source": [
        "'''14. What are the benefits of using Plotly for data visualization?\n",
        "\n",
        "Ans:  Plotly is a versatile open-source graphing library that offers a range of benefits for data visualization:\n",
        "\n",
        "Interactivity:\n",
        "\n",
        "Plotly excels at creating interactive visualizations, allowing users to zoom, pan, and hover over data points for detailed insights.\n",
        "GEEKSFORGEEKS.ORG\n",
        "Ease of Use:\n",
        "\n",
        "With its high-level API, Plotly simplifies the creation of complex visualizations, making it accessible even to those with minimal coding experience.\n",
        "CODESIGNAL.COM\n",
        "Versatility:\n",
        "\n",
        "Plotly supports a wide array of chart types, including line plots, scatter plots, bar charts, and 3D plots, catering to diverse visualization needs.\n",
        "Integration Capabilities:\n",
        "\n",
        "It seamlessly integrates with popular data analysis tools and environments, such as Jupyter Notebooks, enhancing its utility in data science workflows.\n",
        "Customization:\n",
        "\n",
        "Users can extensively customize visual elements, enabling the creation of publication-quality graphics tailored to specific requirements.\n",
        "Scalability:\n",
        "\n",
        "Plotly can handle large datasets efficiently, making it suitable for visualizing extensive data without compromising performance.\n",
        "ARXIV.ORG\n",
        "In summary, Plotly's combination of interactivity, user-friendliness, versatility, integration, customization, and scalability makes it a powerful tool for data visualization across various applications.\n",
        "\n",
        "\n",
        "'''"
      ],
      "metadata": {
        "id": "HLsV2qnZ7loQ"
      },
      "execution_count": null,
      "outputs": []
    },
    {
      "cell_type": "code",
      "source": [
        "'''15.How does NumPy handle multidimensional arrays?\n",
        "\n",
        "ans:  NumPy efficiently handles multidimensional arrays through its core data structure, the ndarray (N-dimensional array).\n",
        "This homogeneous array allows for the storage and manipulation of items of the same type and size across multiple dimensions.\n",
        "The shape of an ndarray is defined by a tuple of non-negative integers, each representing the size of the array along a particular dimension.\n",
        "NUMPY.ORG\n",
        "\n",
        "Creating Multidimensional Arrays:\n",
        "\n",
        "We can create a multidimensional array in NumPy using the np.array() function with nested lists:\n",
        "\n",
        "python\n",
        "Copy\n",
        "Edit\n",
        "import numpy as np\n",
        "\n",
        "# Creating a 2D array (matrix)\n",
        "array_2d = np.array([[1, 2, 3], [4, 5, 6]])\n",
        "print(array_2d)\n",
        "Output:\n",
        "[[1 2 3]\n",
        " [4 5 6]]\n",
        "For higher-dimensional arrays, we can nest lists accordingly:\n",
        "\n",
        "python\n",
        "Copy\n",
        "Edit\n",
        "# Creating a 3D array\n",
        "array_3d = np.array([[[1, 2], [3, 4]], [[5, 6], [7, 8]]])\n",
        "print(array_3d)\n",
        "Output:\n",
        "\n",
        "[[[1 2]\n",
        "  [3 4]]\n",
        "\n",
        " [[5 6]\n",
        "  [7 8]]]\n",
        "Reshaping Arrays:\n",
        "\n",
        "NumPy provides the reshape() method to modify the dimensions of an existing array without changing its data:\n",
        "# Reshaping a 1D array to a 2D array\n",
        "array_1d = np.array([1, 2, 3, 4, 5, 6])\n",
        "array_2d = array_1d.reshape((2, 3))\n",
        "print(array_2d)\n",
        "Output:\n",
        "\n",
        "\n",
        "[[1 2 3]\n",
        " [4 5 6]]\n",
        "This reshaping is possible as long as the total number of elements remains consistent.\n",
        "MATH.BUFFALO.EDU\n",
        "\n",
        "Indexing and Slicing:\n",
        "\n",
        "Accessing elements in multidimensional arrays involves specifying indices for each dimension:\n",
        "\n",
        "# Accessing an element in a 2D array\n",
        "element = array_2d[1, 2]  # Retrieves the element at row 1, column 2\n",
        "print(element)\n",
        "Output:\n",
        "6\n",
        "Slicing allows for accessing subarrays:\n",
        "\n",
        "\n",
        "# Slicing a subarray\n",
        "subarray = array_2d[:, 1:]  # Retrieves all rows, columns from index 1 onwards\n",
        "print(subarray)\n",
        "Output:\n",
        "\n",
        "\n",
        "[[2 3]\n",
        " [5 6]]\n",
        "Operations on Multidimensional Arrays:\n",
        "\n",
        "NumPy supports element-wise operations, broadcasting, and various mathematical functions on multidimensional arrays:\n",
        "\n",
        "\n",
        "# Element-wise addition\n",
        "array_sum = array_2d + 10\n",
        "print(array_sum)\n",
        "Output:\n",
        "\n",
        "lua\n",
        "[[11 12 13]\n",
        " [14 15 16]]\n",
        "These operations are optimized for performance, making NumPy a powerful tool for numerical computations involving multidimensional data.\n",
        "\n",
        "'''\n",
        "\n",
        "\n"
      ],
      "metadata": {
        "id": "zdpHxV_t8ClC"
      },
      "execution_count": null,
      "outputs": []
    },
    {
      "cell_type": "code",
      "source": [
        "'''16. What is the role of Bokeh in data visualization?\n",
        "\n",
        "Ans: Bokeh is a Python library designed for interactive and web-based data visualization. It is particularly useful for handling large datasets and creating dynamic visualizations for dashboards and web applications.\n",
        "\n",
        "Key Roles of Bokeh in Data Visualization\n",
        "1. Interactive Visualizations\n",
        "Unlike Matplotlib and Seaborn, Bokeh allows users to zoom, pan, hover, and filter data dynamically.\n",
        "Example: hover_tool = HoverTool() enables tooltips with detailed data points.\n",
        "2. Web-Ready Plots & Dashboards\n",
        "Generates visualizations as HTML/JavaScript, making it ideal for embedding in web applications.\n",
        "Compatible with frameworks like Flask, Django, and Jupyter Notebooks.\n",
        "3. Large Dataset Handling\n",
        "Uses WebGL and optimized rendering to efficiently visualize large datasets.\n",
        "Datashader integration enables fast visualization of millions of data points.\n",
        "4. Declarative and Pythonic API\n",
        "High-level interface (bokeh.plotting) for quick plots.\n",
        "Low-level interface (bokeh.models) for custom visualization development.\n",
        "5. Supports Multiple Output Formats\n",
        "Save as static images (PNG, SVG).\n",
        "Generate standalone HTML files or integrate with web servers.\n",
        "6. Real-Time Streaming Data\n",
        "Supports real-time updates and streaming data visualizations using ColumnDataSource.stream().\n",
        "'''"
      ],
      "metadata": {
        "id": "-PlysvYq-356"
      },
      "execution_count": null,
      "outputs": []
    },
    {
      "cell_type": "code",
      "source": [
        "'''17.Explain the difference between apply() and map() in Pandas\n",
        "\n",
        "Ans:In pandas, both apply() and map() are used to manipulate data by applying functions, but they differ in their scope and usage:\n",
        "\n",
        "map() Method:\n",
        "\n",
        "Scope: Designed exclusively for Series objects.\n",
        "Functionality: Applies a given function element-wise to each value in the Series. It can also accept a dictionary or another Series to map values.\n",
        "Use Case: Ideal for simple transformations or mappings of individual values.\n",
        "\n",
        "\n",
        "apply() Method:\n",
        "\n",
        "Scope: Applicable to both Series and DataFrame objects.\n",
        "Functionality: For a Series, it applies a function to each element. For a DataFrame, it can apply a function along a specified axis (axis=0 for columns, axis=1 for rows).\n",
        "Use Case: Suitable for applying more complex functions that may need to operate on rows or columns collectively.\n",
        "\n",
        "Key Differences:\n",
        "\n",
        "Data Structures:\n",
        "\n",
        "map() is limited to Series.\n",
        "apply() can be used with both Series and DataFrame.\n",
        "Function Application:\n",
        "\n",
        "map() applies a function element-wise.\n",
        "apply() can apply functions along an axis in a DataFrame, allowing for operations on entire rows or columns.\n",
        "Input Flexibility:\n",
        "\n",
        "map() can accept functions, dictionaries, or another Series for mapping.\n",
        "apply() primarily accepts functions.\n",
        "In summary, use map() for straightforward element-wise operations on Series, and apply() for more complex operations,\n",
        "especially when working with DataFrame objects or when the function needs to operate on rows or columns as a whole.\n",
        "\n",
        "'''"
      ],
      "metadata": {
        "id": "A1AiAGAC_HRD"
      },
      "execution_count": null,
      "outputs": []
    },
    {
      "cell_type": "code",
      "source": [
        "'''18.What are some advanced features of NumPy\n",
        "\n",
        "Ans:NumPy offers several advanced features that enhance its capabilities for numerical computing and data manipulation:\n",
        "\n",
        "Universal Functions (ufuncs):\n",
        "\n",
        "These are functions that operate element-wise on arrays, supporting array broadcasting, type casting, and several other standard features. They enable efficient looping over array elements in C, avoiding the overhead of Python loops.\n",
        "Advanced Indexing:\n",
        "\n",
        "Beyond basic slicing, NumPy allows for advanced indexing techniques, such as boolean indexing and fancy indexing, enabling the selection of arbitrary items in an array based on conditions or specific indices.\n",
        "Structured Arrays:\n",
        "\n",
        "NumPy supports structured arrays, allowing the definition of complex data types with multiple fields, akin to columns in a table. This is particularly useful for handling heterogeneous data.\n",
        "Memory Mapping of Large Files:\n",
        "\n",
        "With numpy.memmap, it's possible to access large binary files on disk as if they were in-memory arrays, facilitating the handling of datasets that don't fit into RAM.\n",
        "Integration with External Libraries:\n",
        "\n",
        "NumPy can interface with libraries written in C, C++, and Fortran, enabling the incorporation of high-performance code and existing numerical libraries into Python workflows.\n",
        "Masked Arrays:\n",
        "\n",
        "These arrays allow for the inclusion of invalid or missing data within datasets, providing a mechanism to perform operations while ignoring these masked elements.\n",
        "Vectorization:\n",
        "\n",
        "NumPy enables the application of operations over entire arrays, eliminating the need for explicit loops and resulting in more concise and faster code.\n",
        "These features make NumPy a powerful tool for scientific computing, data analysis, and engineering applications, providing both flexibility and performance.\n",
        "\n",
        "\n",
        "'''\n"
      ],
      "metadata": {
        "id": "I7fSPvE_AL2t"
      },
      "execution_count": null,
      "outputs": []
    },
    {
      "cell_type": "code",
      "source": [
        "'''19.How does Pandas simplify time series analysis?\n",
        "\n",
        "\n",
        "Ans:  Pandas simplifies time series analysis by providing powerful, easy-to-use tools for handling, manipulating, and analyzing time-indexed data. Here’s how:\n",
        "\n",
        "1. Datetime Handling\n",
        "pd.to_datetime(): Converts strings or numbers into datetime objects.\n",
        "DatetimeIndex: Provides a specialized index for time-based data, enabling efficient slicing and filtering.\n",
        ".dt accessor: Extracts time components like year, month, day, or hour.\n",
        "2. Resampling & Frequency Conversion\n",
        "resample(): Aggregates data into different time intervals (e.g., daily to monthly).\n",
        "Supports operations like mean, sum, or custom functions over time windows.\n",
        "3. Shifting and Lagging\n",
        ".shift(): Moves data forward or backward in time.\n",
        "Useful for calculating differences or rolling statistics.\n",
        "4. Rolling & Expanding Windows\n",
        "rolling(): Computes moving averages, standard deviations, etc., over a sliding window.\n",
        "expanding(): Computes cumulative statistics over time.\n",
        "5. Time Zone Handling\n",
        ".tz_localize(): Assigns a timezone to timestamps.\n",
        ".tz_convert(): Converts timestamps between time zones.\n",
        "6. Missing Data Handling\n",
        "fillna(), interpolate(): Fills missing timestamps using various techniques.\n",
        "Ensures smooth time series without gaps.\n",
        "7. Efficient Time-Based Indexing & Slicing\n",
        "Can slice data using date strings: df.loc['2024-01'] fetches all data from January 2024.\n",
        "Supports range-based slicing: df['2023-01-01':'2023-12-31'].\n",
        "8. Plotting & Visualization\n",
        "Integrated with Matplotlib: df.plot() quickly visualizes time series trends.\n",
        "9. Autocorrelation & Statistical Analysis\n",
        ".autocorr(): Measures correlation of a time series with its past values.\n",
        "Integrates with statsmodels and scipy for deeper analysis.\n",
        "\n",
        "'''\n"
      ],
      "metadata": {
        "id": "WKf5XtHDAmqk"
      },
      "execution_count": null,
      "outputs": []
    },
    {
      "cell_type": "code",
      "source": [
        "'''20. What is the role of a pivot table in Pandas?\n",
        "\n",
        "Ans:A pivot table in Pandas is used for summarizing and analyzing data by reorganizing it into a more meaningful format. It allows you to aggregate, filter, and reshape data efficiently, similar to pivot tables in Excel.\n",
        "\n",
        "Key Roles of Pivot Tables in Pandas\n",
        "Summarization & Aggregation\n",
        "\n",
        "Groups data based on unique values in one or more columns.\n",
        "Computes statistics like sum, mean, count, min, max, etc.\n",
        "Example: Finding the total sales per region.\n",
        "Reshaping Data (Wide vs. Long Format)\n",
        "\n",
        "Converts long-format data into a structured table.\n",
        "Example: Converting monthly sales records into a format where each month is a column.\n",
        "Multi-Level Indexing (Hierarchical Pivoting)\n",
        "\n",
        "Allows multi-level grouping using multiple index columns.\n",
        "Example: Sales data grouped by both \"Region\" and \"Product Category.\"\n",
        "Efficient Data Analysis\n",
        "\n",
        "Quickly identifies trends and patterns.\n",
        "Reduces the need for complex groupby operations.\n",
        "'''"
      ],
      "metadata": {
        "id": "9B3Zk2KrBDkA"
      },
      "execution_count": null,
      "outputs": []
    },
    {
      "cell_type": "code",
      "source": [
        "'''21.Why is NumPy’s array slicing faster than Python’s list slicing?\n",
        "\n",
        "\n",
        "Ans: NumPy's array slicing is faster than Python's list slicing due to several reasons:\n",
        "\n",
        "1. Memory Efficiency\n",
        "NumPy arrays are stored in a contiguous block of memory, making it easier to access elements quickly.\n",
        "Python lists, on the other hand, store references to objects scattered in memory, leading to slower access times.\n",
        "2. Views Instead of Copies\n",
        "NumPy slicing creates views of the original array instead of copying data, meaning operations are performed on the same underlying data.\n",
        "Python list slicing creates a new list, copying elements, which increases memory usage and slows performance.\n",
        "3. Vectorized Operations\n",
        "NumPy is optimized for bulk operations using vectorized implementations in C, avoiding Python’s loop overhead.\n",
        "Python lists require explicit iteration (e.g., using loops or list comprehensions), which is slower due to Python’s interpreted nature.\n",
        "4. Low-Level Optimizations\n",
        "NumPy is implemented in C and uses highly optimized libraries like BLAS and LAPACK, leading to faster execution.\n",
        "Python lists rely on dynamic typing and general-purpose object handling, making them slower in comparison.\n",
        "5. Fixed Data Types\n",
        "NumPy arrays have a fixed data type (dtype), enabling efficient memory layout and processing.\n",
        "Python lists can store mixed types, requiring additional overhead for type checking and memory management.\n",
        "Conclusion\n",
        "For numerical computations and large datasets, NumPy's slicing is significantly faster because it avoids unnecessary memory\n",
        "allocations, performs vectorized operations, and utilizes optimized low-level implementations.\n",
        "'''\n",
        "\n",
        "\n",
        "\n",
        "\n",
        "\n",
        "\n"
      ],
      "metadata": {
        "id": "_T5GllJXBZsT"
      },
      "execution_count": null,
      "outputs": []
    },
    {
      "cell_type": "code",
      "source": [
        "'''22. What are some common use cases for Seaborn?\n",
        "\n",
        "Ans: Seaborn is a powerful Python visualization library built on top of Matplotlib, designed for statistical data visualization. Some common use cases include:\n",
        "\n",
        "1. Exploratory Data Analysis (EDA)\n",
        "Quickly visualize distributions, relationships, and trends in data before building models.\n",
        "Example: sns.pairplot(df) to visualize pairwise relationships in a dataset.\n",
        "2. Statistical Data Visualization\n",
        "Built-in statistical functions make it easy to visualize means, confidence intervals, and distributions.\n",
        "Example: sns.violinplot(x=\"category\", y=\"value\", data=df) to show distributions.\n",
        "3. Distribution Analysis\n",
        "Histograms & KDE Plots: sns.histplot() and sns.kdeplot() for visualizing data distribution.\n",
        "Boxplots & Violin Plots: sns.boxplot() and sns.violinplot() for detecting outliers and understanding spread.\n",
        "4. Correlation and Relationship Analysis\n",
        "Scatter Plots: sns.scatterplot() for visualizing relationships.\n",
        "Heatmaps: sns.heatmap(df.corr(), annot=True) to display correlation matrices.\n",
        "5. Categorical Data Visualization\n",
        "Bar Plots: sns.barplot(x, y, data=df) to summarize categorical data.\n",
        "Count Plots: sns.countplot(x, data=df) to display category frequency.\n",
        "6. Time Series Analysis\n",
        "sns.lineplot(x=\"date\", y=\"value\", data=df) for tracking trends over time.\n",
        "7. Multi-Variate Analysis\n",
        "sns.pairplot(df) to visualize interactions between multiple variables.\n",
        "8. Customizing Plots\n",
        "Seaborn integrates well with Pandas and Matplotlib, allowing for easy styling and customization (sns.set_theme()).\n",
        "Seaborn is widely used in data science, machine learning, and research for producing high-quality visualizations efficiently.\n",
        "\n",
        "'''\n",
        "\n",
        "\n",
        "\n",
        "\n",
        "\n",
        "\n",
        "\n",
        "\n",
        "\n",
        "\n",
        "\n"
      ],
      "metadata": {
        "id": "iSEDRjpKB8Ql"
      },
      "execution_count": null,
      "outputs": []
    },
    {
      "cell_type": "code",
      "source": [
        "# PRACTICAL QUESTIONS START HERE\n",
        "\n",
        "\n",
        "#1.How do you create a 2D NumPy array and calculate the sum of each row?\n",
        "\n",
        "import numpy as np\n",
        "\n",
        "# Create a 2D NumPy arra?\n",
        "\n",
        "arr = np.array([[1, 2, 3], [4, 5, 6], [7, 8, 9]])\n",
        "\n",
        "# Calculate the sum of each row\n",
        "row_sums = np.sum(arr, axis=1)\n",
        "\n",
        "print(\"Array:\")\n",
        "print(arr)\n",
        "\n",
        "print(\"\\nSum of each row:\")\n",
        "print(row_sums)\n"
      ],
      "metadata": {
        "colab": {
          "base_uri": "https://localhost:8080/"
        },
        "id": "HQ-1QOcptenp",
        "outputId": "683ccb0f-fb9a-4ffe-ad89-a42dc88dfdde"
      },
      "execution_count": 1,
      "outputs": [
        {
          "output_type": "stream",
          "name": "stdout",
          "text": [
            "Array:\n",
            "[[1 2 3]\n",
            " [4 5 6]\n",
            " [7 8 9]]\n",
            "\n",
            "Sum of each row:\n",
            "[ 6 15 24]\n"
          ]
        }
      ]
    },
    {
      "cell_type": "code",
      "source": [
        "#2.Write a Pandas script to find the mean of a specific column in a DataFrame\n",
        "\n",
        "import pandas as pd\n",
        "\n",
        "# Sample DataFrame\n",
        "data = {'A': [1, 2, 3, 4, 5],\n",
        "        'B': [10, 20, 30, 40, 50],\n",
        "        'C': [100, 200, 300, 400, 500]}\n",
        "\n",
        "df = pd.DataFrame(data)\n",
        "\n",
        "# Calculate the mean of column 'B'\n",
        "mean_value = df['B'].mean()\n",
        "\n",
        "print(f\"The mean of column 'B' is: {mean_value}\")\n"
      ],
      "metadata": {
        "colab": {
          "base_uri": "https://localhost:8080/"
        },
        "id": "sZW-eq-Yt8Cz",
        "outputId": "a1d994dd-a84a-443f-d809-42878ed6adf5"
      },
      "execution_count": 2,
      "outputs": [
        {
          "output_type": "stream",
          "name": "stdout",
          "text": [
            "The mean of column 'B' is: 30.0\n"
          ]
        }
      ]
    },
    {
      "cell_type": "code",
      "source": [
        "#3.Create a scatter plot using Matplotlib.\n",
        "\n",
        "import matplotlib.pyplot as plt\n",
        "\n",
        "# Sample data\n",
        "x = [1, 2, 3, 4, 5]\n",
        "y = [5, 4, 3, 2, 1]\n",
        "\n",
        "# Create the scatter plot\n",
        "plt.scatter(x, y)\n",
        "\n",
        "# Add labels and a title\n",
        "plt.xlabel('X-axis Label')\n",
        "plt.ylabel('Y-axis Label')\n",
        "plt.title('Simple Scatter Plot')\n",
        "\n",
        "# Show the plot\n",
        "plt.show()\n"
      ],
      "metadata": {
        "colab": {
          "base_uri": "https://localhost:8080/",
          "height": 472
        },
        "id": "Fpu7MlTkuK3H",
        "outputId": "6ab7e0a9-a253-40e0-aa56-66adc1122a38"
      },
      "execution_count": 3,
      "outputs": [
        {
          "output_type": "display_data",
          "data": {
            "text/plain": [
              "<Figure size 640x480 with 1 Axes>"
            ],
            "image/png": "[encoded data removed]"
          },
          "metadata": {}
        }
      ]
    },
    {
      "cell_type": "code",
      "source": [
        "#4.How do you calculate the correlation matrix using Seaborn and visualize it with a heatmap.\n",
        "\n",
        "import pandas as pd\n",
        "import seaborn as sns\n",
        "import matplotlib.pyplot as plt\n",
        "import numpy as np\n",
        "\n",
        "# Load your dataset into a Pandas DataFrame\n",
        "# For example, using a CSV file:\n",
        "# df = pd.read_csv('your_dataset.csv')\n",
        "\n",
        "# creating a sample DataFrame\n",
        "data = {\n",
        "    'A': [1, 2, 3, 4, 5],\n",
        "    'B': [5, 4, 3, 2, 1],\n",
        "    'C': [2, 3, 4, 5, 6],\n",
        "    'D': [5, 3, 1, 3, 5]\n",
        "}\n",
        "df = pd.DataFrame(data)\n",
        "\n",
        "# Computing the correlation matrix\n",
        "corr_matrix = df.corr()\n",
        "\n",
        "# Generating a mask for the upper triangle\n",
        "mask = np.triu(np.ones_like(corr_matrix, dtype=bool))\n",
        "\n",
        "# Setting up the matplotlib figure\n",
        "plt.figure(figsize=(10, 8))\n",
        "\n",
        "# Drawing the heatmap\n",
        "sns.heatmap(corr_matrix, mask=mask, annot=True, fmt=\".2f\", cmap='coolwarm', vmin=-1, vmax=1, linewidths=0.5, cbar_kws={\"shrink\": 0.8})\n",
        "\n",
        "# Setting the title\n",
        "plt.title('Correlation Matrix Heatmap')\n",
        "\n",
        "# Displaying the plot\n",
        "plt.show()\n"
      ],
      "metadata": {
        "colab": {
          "base_uri": "https://localhost:8080/",
          "height": 699
        },
        "id": "4DB7Dj1luf5j",
        "outputId": "06d0f12f-04db-489d-a3ac-643990c71718"
      },
      "execution_count": 4,
      "outputs": [
        {
          "output_type": "display_data",
          "data": {
            "text/plain": [
              "<Figure size 1000x800 with 2 Axes>"
            ],
            "image/png": "[encoded data removed]"
          },
          "metadata": {}
        }
      ]
    },
    {
      "cell_type": "code",
      "source": [
        "#5. Generate a bar plot using Plotly\n",
        "\n",
        "import plotly.express as px\n",
        "import pandas as pd\n",
        "\n",
        "#Preparing the data\n",
        "data = {\n",
        "    'Category': ['A', 'B', 'C', 'D'],\n",
        "    'Values': [10, 15, 13, 17]\n",
        "}\n",
        "df = pd.DataFrame(data)\n",
        "\n",
        "#Creating the bar plot\n",
        "fig = px.bar(df, x='Category', y='Values', title='Simple Bar Plot')\n",
        "\n",
        "#Customizing the plot\n",
        "\n",
        "fig.update_layout(\n",
        "    xaxis_title='Category',\n",
        "    yaxis_title='Values',\n",
        "    template='plotly_dark'\n",
        ")\n",
        "\n",
        "#Displaying the plot\n",
        "\n",
        "fig.show()\n",
        "\n",
        "\n",
        "\n",
        "\n",
        "\n"
      ],
      "metadata": {
        "colab": {
          "base_uri": "https://localhost:8080/",
          "height": 542
        },
        "id": "Axfmld1mvdzl",
        "outputId": "6440acaf-47ae-4112-d896-5b74b1d55e9b"
      },
      "execution_count": 6,
      "outputs": [
        {
          "output_type": "display_data",
          "data": {
            "text/html": [
              "<html>\n",
              "<head><meta charset=\"utf-8\" /></head>\n",
              "<body>\n",
              "    <div>            <script src=\"https://cdnjs.cloudflare.com/ajax/libs/mathjax/2.7.5/MathJax.js?config=TeX-AMS-MML_SVG\"></script><script type=\"text/javascript\">if (window.MathJax && window.MathJax.Hub && window.MathJax.Hub.Config) {window.MathJax.Hub.Config({SVG: {font: \"STIX-Web\"}});}</script>                <script type=\"text/javascript\">window.PlotlyConfig = {MathJaxConfig: 'local'};</script>\n",
              "        <script charset=\"utf-8\" src=\"https://cdn.plot.ly/plotly-2.35.2.min.js\"></script>                <div id=\"6b596583-7e95-4ead-828d-9dbc9624c14b\" class=\"plotly-graph-div\" style=\"height:525px; width:100%;\"></div>            <script type=\"text/javascript\">                                    window.PLOTLYENV=window.PLOTLYENV || {};                                    if (document.getElementById(\"6b596583-7e95-4ead-828d-9dbc9624c14b\")) {                    Plotly.newPlot(                        \"6b596583-7e95-4ead-828d-9dbc9624c14b\",                        [{\"alignmentgroup\":\"True\",\"hovertemplate\":\"Category=%{x}\\u003cbr\\u003eValues=%{y}\\u003cextra\\u003e\\u003c\\u002fextra\\u003e\",\"legendgroup\":\"\",\"marker\":{\"color\":\"#636efa\",\"pattern\":{\"shape\":\"\"}},\"name\":\"\",\"offsetgroup\":\"\",\"orientation\":\"v\",\"showlegend\":false,\"textposition\":\"auto\",\"x\":[\"A\",\"B\",\"C\",\"D\"],\"xaxis\":\"x\",\"y\":[10,15,13,17],\"yaxis\":\"y\",\"type\":\"bar\"}],                        {\"template\":{\"data\":{\"barpolar\":[{\"marker\":{\"line\":{\"color\":\"rgb(17,17,17)\",\"width\":0.5},\"pattern\":{\"fillmode\":\"overlay\",\"size\":10,\"solidity\":0.2}},\"type\":\"barpolar\"}],\"bar\":[{\"error_x\":{\"color\":\"#f2f5fa\"},\"error_y\":{\"color\":\"#f2f5fa\"},\"marker\":{\"line\":{\"color\":\"rgb(17,17,17)\",\"width\":0.5},\"pattern\":{\"fillmode\":\"overlay\",\"size\":10,\"solidity\":0.2}},\"type\":\"bar\"}],\"carpet\":[{\"aaxis\":{\"endlinecolor\":\"#A2B1C6\",\"gridcolor\":\"#506784\",\"linecolor\":\"#506784\",\"minorgridcolor\":\"#506784\",\"startlinecolor\":\"#A2B1C6\"},\"baxis\":{\"endlinecolor\":\"#A2B1C6\",\"gridcolor\":\"#506784\",\"linecolor\":\"#506784\",\"minorgridcolor\":\"#506784\",\"startlinecolor\":\"#A2B1C6\"},\"type\":\"carpet\"}],\"choropleth\":[{\"colorbar\":{\"outlinewidth\":0,\"ticks\":\"\"},\"type\":\"choropleth\"}],\"contourcarpet\":[{\"colorbar\":{\"outlinewidth\":0,\"ticks\":\"\"},\"type\":\"contourcarpet\"}],\"contour\":[{\"colorbar\":{\"outlinewidth\":0,\"ticks\":\"\"},\"colorscale\":[[0.0,\"#0d0887\"],[0.1111111111111111,\"#46039f\"],[0.2222222222222222,\"#7201a8\"],[0.3333333333333333,\"#9c179e\"],[0.4444444444444444,\"#bd3786\"],[0.5555555555555556,\"#d8576b\"],[0.6666666666666666,\"#ed7953\"],[0.7777777777777778,\"#fb9f3a\"],[0.8888888888888888,\"#fdca26\"],[1.0,\"#f0f921\"]],\"type\":\"contour\"}],\"heatmapgl\":[{\"colorbar\":{\"outlinewidth\":0,\"ticks\":\"\"},\"colorscale\":[[0.0,\"#0d0887\"],[0.1111111111111111,\"#46039f\"],[0.2222222222222222,\"#7201a8\"],[0.3333333333333333,\"#9c179e\"],[0.4444444444444444,\"#bd3786\"],[0.5555555555555556,\"#d8576b\"],[0.6666666666666666,\"#ed7953\"],[0.7777777777777778,\"#fb9f3a\"],[0.8888888888888888,\"#fdca26\"],[1.0,\"#f0f921\"]],\"type\":\"heatmapgl\"}],\"heatmap\":[{\"colorbar\":{\"outlinewidth\":0,\"ticks\":\"\"},\"colorscale\":[[0.0,\"#0d0887\"],[0.1111111111111111,\"#46039f\"],[0.2222222222222222,\"#7201a8\"],[0.3333333333333333,\"#9c179e\"],[0.4444444444444444,\"#bd3786\"],[0.5555555555555556,\"#d8576b\"],[0.6666666666666666,\"#ed7953\"],[0.7777777777777778,\"#fb9f3a\"],[0.8888888888888888,\"#fdca26\"],[1.0,\"#f0f921\"]],\"type\":\"heatmap\"}],\"histogram2dcontour\":[{\"colorbar\":{\"outlinewidth\":0,\"ticks\":\"\"},\"colorscale\":[[0.0,\"#0d0887\"],[0.1111111111111111,\"#46039f\"],[0.2222222222222222,\"#7201a8\"],[0.3333333333333333,\"#9c179e\"],[0.4444444444444444,\"#bd3786\"],[0.5555555555555556,\"#d8576b\"],[0.6666666666666666,\"#ed7953\"],[0.7777777777777778,\"#fb9f3a\"],[0.8888888888888888,\"#fdca26\"],[1.0,\"#f0f921\"]],\"type\":\"histogram2dcontour\"}],\"histogram2d\":[{\"colorbar\":{\"outlinewidth\":0,\"ticks\":\"\"},\"colorscale\":[[0.0,\"#0d0887\"],[0.1111111111111111,\"#46039f\"],[0.2222222222222222,\"#7201a8\"],[0.3333333333333333,\"#9c179e\"],[0.4444444444444444,\"#bd3786\"],[0.5555555555555556,\"#d8576b\"],[0.6666666666666666,\"#ed7953\"],[0.7777777777777778,\"#fb9f3a\"],[0.8888888888888888,\"#fdca26\"],[1.0,\"#f0f921\"]],\"type\":\"histogram2d\"}],\"histogram\":[{\"marker\":{\"pattern\":{\"fillmode\":\"overlay\",\"size\":10,\"solidity\":0.2}},\"type\":\"histogram\"}],\"mesh3d\":[{\"colorbar\":{\"outlinewidth\":0,\"ticks\":\"\"},\"type\":\"mesh3d\"}],\"parcoords\":[{\"line\":{\"colorbar\":{\"outlinewidth\":0,\"ticks\":\"\"}},\"type\":\"parcoords\"}],\"pie\":[{\"automargin\":true,\"type\":\"pie\"}],\"scatter3d\":[{\"line\":{\"colorbar\":{\"outlinewidth\":0,\"ticks\":\"\"}},\"marker\":{\"colorbar\":{\"outlinewidth\":0,\"ticks\":\"\"}},\"type\":\"scatter3d\"}],\"scattercarpet\":[{\"marker\":{\"colorbar\":{\"outlinewidth\":0,\"ticks\":\"\"}},\"type\":\"scattercarpet\"}],\"scattergeo\":[{\"marker\":{\"colorbar\":{\"outlinewidth\":0,\"ticks\":\"\"}},\"type\":\"scattergeo\"}],\"scattergl\":[{\"marker\":{\"line\":{\"color\":\"#283442\"}},\"type\":\"scattergl\"}],\"scattermapbox\":[{\"marker\":{\"colorbar\":{\"outlinewidth\":0,\"ticks\":\"\"}},\"type\":\"scattermapbox\"}],\"scatterpolargl\":[{\"marker\":{\"colorbar\":{\"outlinewidth\":0,\"ticks\":\"\"}},\"type\":\"scatterpolargl\"}],\"scatterpolar\":[{\"marker\":{\"colorbar\":{\"outlinewidth\":0,\"ticks\":\"\"}},\"type\":\"scatterpolar\"}],\"scatter\":[{\"marker\":{\"line\":{\"color\":\"#283442\"}},\"type\":\"scatter\"}],\"scatterternary\":[{\"marker\":{\"colorbar\":{\"outlinewidth\":0,\"ticks\":\"\"}},\"type\":\"scatterternary\"}],\"surface\":[{\"colorbar\":{\"outlinewidth\":0,\"ticks\":\"\"},\"colorscale\":[[0.0,\"#0d0887\"],[0.1111111111111111,\"#46039f\"],[0.2222222222222222,\"#7201a8\"],[0.3333333333333333,\"#9c179e\"],[0.4444444444444444,\"#bd3786\"],[0.5555555555555556,\"#d8576b\"],[0.6666666666666666,\"#ed7953\"],[0.7777777777777778,\"#fb9f3a\"],[0.8888888888888888,\"#fdca26\"],[1.0,\"#f0f921\"]],\"type\":\"surface\"}],\"table\":[{\"cells\":{\"fill\":{\"color\":\"#506784\"},\"line\":{\"color\":\"rgb(17,17,17)\"}},\"header\":{\"fill\":{\"color\":\"#2a3f5f\"},\"line\":{\"color\":\"rgb(17,17,17)\"}},\"type\":\"table\"}]},\"layout\":{\"annotationdefaults\":{\"arrowcolor\":\"#f2f5fa\",\"arrowhead\":0,\"arrowwidth\":1},\"autotypenumbers\":\"strict\",\"coloraxis\":{\"colorbar\":{\"outlinewidth\":0,\"ticks\":\"\"}},\"colorscale\":{\"diverging\":[[0,\"#8e0152\"],[0.1,\"#c51b7d\"],[0.2,\"#de77ae\"],[0.3,\"#f1b6da\"],[0.4,\"#fde0ef\"],[0.5,\"#f7f7f7\"],[0.6,\"#e6f5d0\"],[0.7,\"#b8e186\"],[0.8,\"#7fbc41\"],[0.9,\"#4d9221\"],[1,\"#276419\"]],\"sequential\":[[0.0,\"#0d0887\"],[0.1111111111111111,\"#46039f\"],[0.2222222222222222,\"#7201a8\"],[0.3333333333333333,\"#9c179e\"],[0.4444444444444444,\"#bd3786\"],[0.5555555555555556,\"#d8576b\"],[0.6666666666666666,\"#ed7953\"],[0.7777777777777778,\"#fb9f3a\"],[0.8888888888888888,\"#fdca26\"],[1.0,\"#f0f921\"]],\"sequentialminus\":[[0.0,\"#0d0887\"],[0.1111111111111111,\"#46039f\"],[0.2222222222222222,\"#7201a8\"],[0.3333333333333333,\"#9c179e\"],[0.4444444444444444,\"#bd3786\"],[0.5555555555555556,\"#d8576b\"],[0.6666666666666666,\"#ed7953\"],[0.7777777777777778,\"#fb9f3a\"],[0.8888888888888888,\"#fdca26\"],[1.0,\"#f0f921\"]]},\"colorway\":[\"#636efa\",\"#EF553B\",\"#00cc96\",\"#ab63fa\",\"#FFA15A\",\"#19d3f3\",\"#FF6692\",\"#B6E880\",\"#FF97FF\",\"#FECB52\"],\"font\":{\"color\":\"#f2f5fa\"},\"geo\":{\"bgcolor\":\"rgb(17,17,17)\",\"lakecolor\":\"rgb(17,17,17)\",\"landcolor\":\"rgb(17,17,17)\",\"showlakes\":true,\"showland\":true,\"subunitcolor\":\"#506784\"},\"hoverlabel\":{\"align\":\"left\"},\"hovermode\":\"closest\",\"mapbox\":{\"style\":\"dark\"},\"paper_bgcolor\":\"rgb(17,17,17)\",\"plot_bgcolor\":\"rgb(17,17,17)\",\"polar\":{\"angularaxis\":{\"gridcolor\":\"#506784\",\"linecolor\":\"#506784\",\"ticks\":\"\"},\"bgcolor\":\"rgb(17,17,17)\",\"radialaxis\":{\"gridcolor\":\"#506784\",\"linecolor\":\"#506784\",\"ticks\":\"\"}},\"scene\":{\"xaxis\":{\"backgroundcolor\":\"rgb(17,17,17)\",\"gridcolor\":\"#506784\",\"gridwidth\":2,\"linecolor\":\"#506784\",\"showbackground\":true,\"ticks\":\"\",\"zerolinecolor\":\"#C8D4E3\"},\"yaxis\":{\"backgroundcolor\":\"rgb(17,17,17)\",\"gridcolor\":\"#506784\",\"gridwidth\":2,\"linecolor\":\"#506784\",\"showbackground\":true,\"ticks\":\"\",\"zerolinecolor\":\"#C8D4E3\"},\"zaxis\":{\"backgroundcolor\":\"rgb(17,17,17)\",\"gridcolor\":\"#506784\",\"gridwidth\":2,\"linecolor\":\"#506784\",\"showbackground\":true,\"ticks\":\"\",\"zerolinecolor\":\"#C8D4E3\"}},\"shapedefaults\":{\"line\":{\"color\":\"#f2f5fa\"}},\"sliderdefaults\":{\"bgcolor\":\"#C8D4E3\",\"bordercolor\":\"rgb(17,17,17)\",\"borderwidth\":1,\"tickwidth\":0},\"ternary\":{\"aaxis\":{\"gridcolor\":\"#506784\",\"linecolor\":\"#506784\",\"ticks\":\"\"},\"baxis\":{\"gridcolor\":\"#506784\",\"linecolor\":\"#506784\",\"ticks\":\"\"},\"bgcolor\":\"rgb(17,17,17)\",\"caxis\":{\"gridcolor\":\"#506784\",\"linecolor\":\"#506784\",\"ticks\":\"\"}},\"title\":{\"x\":0.05},\"updatemenudefaults\":{\"bgcolor\":\"#506784\",\"borderwidth\":0},\"xaxis\":{\"automargin\":true,\"gridcolor\":\"#283442\",\"linecolor\":\"#506784\",\"ticks\":\"\",\"title\":{\"standoff\":15},\"zerolinecolor\":\"#283442\",\"zerolinewidth\":2},\"yaxis\":{\"automargin\":true,\"gridcolor\":\"#283442\",\"linecolor\":\"#506784\",\"ticks\":\"\",\"title\":{\"standoff\":15},\"zerolinecolor\":\"#283442\",\"zerolinewidth\":2}}},\"xaxis\":{\"anchor\":\"y\",\"domain\":[0.0,1.0],\"title\":{\"text\":\"Category\"}},\"yaxis\":{\"anchor\":\"x\",\"domain\":[0.0,1.0],\"title\":{\"text\":\"Values\"}},\"legend\":{\"tracegroupgap\":0},\"title\":{\"text\":\"Simple Bar Plot\"},\"barmode\":\"relative\"},                        {\"responsive\": true}                    ).then(function(){\n",
              "                            \n",
              "var gd = document.getElementById('6b596583-7e95-4ead-828d-9dbc9624c14b');\n",
              "var x = new MutationObserver(function (mutations, observer) {{\n",
              "        var display = window.getComputedStyle(gd).display;\n",
              "        if (!display || display === 'none') {{\n",
              "            console.log([gd, 'removed!']);\n",
              "            Plotly.purge(gd);\n",
              "            observer.disconnect();\n",
              "        }}\n",
              "}});\n",
              "\n",
              "// Listen for the removal of the full notebook cells\n",
              "var notebookContainer = gd.closest('#notebook-container');\n",
              "if (notebookContainer) {{\n",
              "    x.observe(notebookContainer, {childList: true});\n",
              "}}\n",
              "\n",
              "// Listen for the clearing of the current output cell\n",
              "var outputEl = gd.closest('.output');\n",
              "if (outputEl) {{\n",
              "    x.observe(outputEl, {childList: true});\n",
              "}}\n",
              "\n",
              "                        })                };                            </script>        </div>\n",
              "</body>\n",
              "</html>"
            ]
          },
          "metadata": {}
        }
      ]
    },
    {
      "cell_type": "code",
      "source": [
        "#6.Create a DataFrame and add a new column based on an existing column\n",
        "\n",
        "import pandas as pd\n",
        "\n",
        "# Sample DataFrame\n",
        "data = {\n",
        "    'Name': ['Alice', 'Bob', 'Charlie', 'David'],\n",
        "    'Age': [23, 35, 45, 28]\n",
        "}\n",
        "df = pd.DataFrame(data)\n",
        "\n",
        "\n",
        "# Adding a new column 'Age_Group' based on the values in 'Age'\n",
        "df['Age_Group'] = df['Age'].apply(lambda x: 'Youth' if x < 30 else 'Adult')\n",
        "\n",
        "\n",
        "#Displaying the updated frame\n",
        "\n",
        "print(df)\n"
      ],
      "metadata": {
        "colab": {
          "base_uri": "https://localhost:8080/"
        },
        "id": "-aE2080swp18",
        "outputId": "c8f2ac59-6827-44e7-d287-408ade0917f1"
      },
      "execution_count": 7,
      "outputs": [
        {
          "output_type": "stream",
          "name": "stdout",
          "text": [
            "      Name  Age Age_Group\n",
            "0    Alice   23     Youth\n",
            "1      Bob   35     Adult\n",
            "2  Charlie   45     Adult\n",
            "3    David   28     Youth\n"
          ]
        }
      ]
    },
    {
      "cell_type": "code",
      "source": [
        "#7.Write a program to perform element-wise multiplication of two NumPy arrays\n",
        "\n",
        "#Using the * operator\n",
        "\n",
        "import numpy as np\n",
        "\n",
        "# Define two arrays\n",
        "array1 = np.array([1, 2, 3, 4])\n",
        "array2 = np.array([5, 6, 7, 8])\n",
        "\n",
        "# Element-wise multiplication\n",
        "result = array1 * array2\n",
        "\n",
        "print(\"Result using * operator:\", result)\n",
        "\n",
        "\n",
        "#Using numpy.multiply() function\n",
        "\n",
        "import numpy as np\n",
        "\n",
        "# Define two arrays\n",
        "array1 = np.array([1, 2, 3, 4])\n",
        "array2 = np.array([5, 6, 7, 8])\n",
        "\n",
        "# Element-wise multiplication\n",
        "result = np.multiply(array1, array2)\n",
        "\n",
        "print(\"Result using numpy.multiply():\", result)\n"
      ],
      "metadata": {
        "colab": {
          "base_uri": "https://localhost:8080/"
        },
        "id": "4ji35D-ExNuL",
        "outputId": "c69f456e-1066-4a97-eeef-e7a593336b05"
      },
      "execution_count": 8,
      "outputs": [
        {
          "output_type": "stream",
          "name": "stdout",
          "text": [
            "Result using * operator: [ 5 12 21 32]\n",
            "Result using numpy.multiply(): [ 5 12 21 32]\n"
          ]
        }
      ]
    },
    {
      "cell_type": "code",
      "source": [
        "#8. Create a line plot with multiple lines using Matplotlib\n",
        "\n",
        "import matplotlib.pyplot as plt\n",
        "import numpy as np\n",
        "\n",
        "# Sampling data\n",
        "x = np.linspace(0, 10, 100)\n",
        "y1 = np.sin(x)\n",
        "y2 = np.cos(x)\n",
        "y3 = np.tan(x)\n",
        "\n",
        "# Create the plot\n",
        "plt.figure(figsize=(10, 6))\n",
        "\n",
        "# Plotting each line\n",
        "plt.plot(x, y1, label='sin(x)', color='blue', linestyle='-')\n",
        "plt.plot(x, y2, label='cos(x)', color='red', linestyle='--')\n",
        "plt.plot(x, y3, label='tan(x)', color='green', linestyle='-.')\n",
        "\n",
        "# Adding title and labels\n",
        "plt.title('Trigonometric Functions')\n",
        "plt.xlabel('x')\n",
        "plt.ylabel('Function value')\n",
        "\n",
        "# Add a legend\n",
        "plt.legend()\n",
        "\n",
        "# Displaying the plot\n",
        "plt.show()\n"
      ],
      "metadata": {
        "colab": {
          "base_uri": "https://localhost:8080/",
          "height": 564
        },
        "id": "O-n-CScYxvii",
        "outputId": "a5b64db5-424b-4fbb-d938-19f33ea50151"
      },
      "execution_count": 10,
      "outputs": [
        {
          "output_type": "display_data",
          "data": {
            "text/plain": [
              "<Figure size 1000x600 with 1 Axes>"
            ],
            "image/png": "[encoded data removed]"
          },
          "metadata": {}
        }
      ]
    },
    {
      "cell_type": "code",
      "source": [
        "#9. Generate a Pandas DataFrame and filter rows where a column value is greater than a threshold\n",
        "\n",
        "import pandas as pd\n",
        "\n",
        "# Sample data\n",
        "data = {\n",
        "    'Name': ['Alice', 'Bob', 'Charlie', 'David'],\n",
        "    'Age': [23, 35, 45, 28],\n",
        "    'Score': [85, 92, 78, 88]\n",
        "}\n",
        "\n",
        "# Creating DataFrame\n",
        "df = pd.DataFrame(data)\n",
        "\n",
        "# Setting the threshold value\n",
        "threshold = 30\n",
        "\n",
        "# Filtering rows where 'Age' is greater than the threshold\n",
        "filtered_df = df[df['Age'] > threshold]\n",
        "\n",
        "# Displaying the filtered DataFrame\n",
        "print(filtered_df)\n"
      ],
      "metadata": {
        "colab": {
          "base_uri": "https://localhost:8080/"
        },
        "id": "ekh9gtO2yNTM",
        "outputId": "007d5462-9381-4fba-f468-605e45f71495"
      },
      "execution_count": 11,
      "outputs": [
        {
          "output_type": "stream",
          "name": "stdout",
          "text": [
            "      Name  Age  Score\n",
            "1      Bob   35     92\n",
            "2  Charlie   45     78\n"
          ]
        }
      ]
    },
    {
      "cell_type": "code",
      "source": [
        "#10.  Create a histogram using Seaborn to visualize a distribution\n",
        "\n",
        "import seaborn as sns\n",
        "import matplotlib.pyplot as plt\n",
        "\n",
        "## Loading the 'penguins' dataset\n",
        "penguins = sns.load_dataset(\"penguins\")\n",
        "\n",
        "#Creating the histogram\n",
        "\n",
        "# Create the histogram\n",
        "plt.figure(figsize=(10, 6))\n",
        "sns.histplot(data=penguins, x='flipper_length_mm', bins=30, kde=True, color='blue')\n",
        "\n",
        "# Adding titles and labels\n",
        "plt.title('Distribution of Flipper Lengths in Penguins')\n",
        "plt.xlabel('Flipper Length (mm)')\n",
        "plt.ylabel('Frequency')\n",
        "\n",
        "# Showing the plot\n",
        "plt.show()\n"
      ],
      "metadata": {
        "colab": {
          "base_uri": "https://localhost:8080/",
          "height": 564
        },
        "id": "_UvHByYdymiX",
        "outputId": "8bca133a-0ec3-438e-f193-75d6e433b93a"
      },
      "execution_count": 12,
      "outputs": [
        {
          "output_type": "display_data",
          "data": {
            "text/plain": [
              "<Figure size 1000x600 with 1 Axes>"
            ],
            "image/png": "[encoded data removed]"
          },
          "metadata": {}
        }
      ]
    },
    {
      "cell_type": "code",
      "source": [
        "#11. Perform matrix multiplication using NumPy\n",
        "\n",
        "import numpy as np\n",
        "\n",
        "# Defining two matrices\n",
        "A = np.array([[1, 2],\n",
        "              [3, 4]])\n",
        "B = np.array([[5, 6],\n",
        "              [7, 8]])\n",
        "\n",
        "# Performing matrix multiplication\n",
        "C = np.dot(A, B)\n",
        "\n",
        "print(\"Result using numpy.dot():\\n\", C)\n",
        "\n"
      ],
      "metadata": {
        "colab": {
          "base_uri": "https://localhost:8080/"
        },
        "id": "ui25qnNLzNvI",
        "outputId": "16c8fb4c-e55e-442e-a645-4e7bc55ac465"
      },
      "execution_count": 13,
      "outputs": [
        {
          "output_type": "stream",
          "name": "stdout",
          "text": [
            "Result using numpy.dot():\n",
            " [[19 22]\n",
            " [43 50]]\n"
          ]
        }
      ]
    },
    {
      "cell_type": "code",
      "source": [
        "#12.Use Pandas to load a CSV file and display its first 5 rows\n",
        "\n",
        "import pandas as pd\n",
        "\n",
        "\n",
        "import csv\n",
        "\n",
        "# Data to be written to the CSV file\n",
        "data = [\n",
        "    ['Column1', 'Column2', 'Column3'],  # Header row\n",
        "    ['Row1_Column1', 'Row1_Column2', 'Row1_Column3'],\n",
        "    ['Row2_Column1', 'Row2_Column2', 'Row2_Column3'],\n",
        "    ['Row3_Column1', 'Row3_Column2', 'Row3_Column3'],\n",
        "    ['Row4_Column1', 'Row4_Column2', 'Row4_Column3'],\n",
        "    ['Row5_Column1', 'Row5_Column2', 'Row5_Column3'],\n",
        "    ['Row6_Column1', 'Row6_Column2', 'Row6_Column3'],\n",
        "    ['Row7_Column1', 'Row7_Column2', 'Row7_Column3'],\n",
        "    ['Row8_Column1', 'Row8_Column2', 'Row8_Column3'],\n",
        "    ['Row9_Column1', 'Row9_Column2', 'Row9_Column3'],\n",
        "    ['Row10_Column1', 'Row10_Column2', 'Row10_Column3']\n",
        "]\n",
        "\n",
        "# Specifying the filename\n",
        "filename = 'example.csv'\n",
        "\n",
        "# Writing to the CSV file\n",
        "with open(filename, 'w', newline='') as file:\n",
        "    writer = csv.writer(file)\n",
        "    writer.writerows(data)\n",
        "\n",
        "print(f\"CSV file '{filename}' created successfully.\")\n",
        "\n",
        "\n",
        "# Load only the first 5 rows of the CSV file into a DataFrame\n",
        "df = pd.read_csv('example.csv', nrows=5)\n",
        "\n",
        "# Display the loaded rows\n",
        "print(df)\n"
      ],
      "metadata": {
        "colab": {
          "base_uri": "https://localhost:8080/"
        },
        "id": "r-d5pwjgzusR",
        "outputId": "31cb657b-f5e0-47ef-acd2-e752becb6d0d"
      },
      "execution_count": 14,
      "outputs": [
        {
          "output_type": "stream",
          "name": "stdout",
          "text": [
            "CSV file 'example.csv' created successfully.\n",
            "        Column1       Column2       Column3\n",
            "0  Row1_Column1  Row1_Column2  Row1_Column3\n",
            "1  Row2_Column1  Row2_Column2  Row2_Column3\n",
            "2  Row3_Column1  Row3_Column2  Row3_Column3\n",
            "3  Row4_Column1  Row4_Column2  Row4_Column3\n",
            "4  Row5_Column1  Row5_Column2  Row5_Column3\n"
          ]
        }
      ]
    },
    {
      "cell_type": "code",
      "source": [
        "#13.Create a 3D scatter plot using Plotly\n",
        "\n",
        "import plotly.express as px\n",
        "\n",
        "# Loading the Iris dataset\n",
        "df = px.data.iris()\n",
        "\n",
        "# Creating a 3D scatter plot\n",
        "fig = px.scatter_3d(\n",
        "    df,\n",
        "    x='sepal_length',\n",
        "    y='sepal_width',\n",
        "    z='petal_width',\n",
        "    color='species',  # Differentiate species by color\n",
        "    title='3D Scatter Plot of Iris Dataset'\n",
        ")\n",
        "\n",
        "# Showing the plot\n",
        "fig.show()\n",
        "\n",
        "\n"
      ],
      "metadata": {
        "colab": {
          "base_uri": "https://localhost:8080/",
          "height": 542
        },
        "id": "IIVqjG_m06Lv",
        "outputId": "8e4ad539-e30f-4703-a23a-61fd3ebac44e"
      },
      "execution_count": 15,
      "outputs": [
        {
          "output_type": "display_data",
          "data": {
            "text/html": [
              "<html>\n",
              "<head><meta charset=\"utf-8\" /></head>\n",
              "<body>\n",
              "    <div>            <script src=\"https://cdnjs.cloudflare.com/ajax/libs/mathjax/2.7.5/MathJax.js?config=TeX-AMS-MML_SVG\"></script><script type=\"text/javascript\">if (window.MathJax && window.MathJax.Hub && window.MathJax.Hub.Config) {window.MathJax.Hub.Config({SVG: {font: \"STIX-Web\"}});}</script>                <script type=\"text/javascript\">window.PlotlyConfig = {MathJaxConfig: 'local'};</script>\n",
              "        <script charset=\"utf-8\" src=\"https://cdn.plot.ly/plotly-2.35.2.min.js\"></script>                <div id=\"d8b1448f-1c83-405b-97df-275400b62d34\" class=\"plotly-graph-div\" style=\"height:525px; width:100%;\"></div>            <script type=\"text/javascript\">                                    window.PLOTLYENV=window.PLOTLYENV || {};                                    if (document.getElementById(\"d8b1448f-1c83-405b-97df-275400b62d34\")) {                    Plotly.newPlot(                        \"d8b1448f-1c83-405b-97df-275400b62d34\",                        [{\"hovertemplate\":\"species=setosa\\u003cbr\\u003esepal_length=%{x}\\u003cbr\\u003esepal_width=%{y}\\u003cbr\\u003epetal_width=%{z}\\u003cextra\\u003e\\u003c\\u002fextra\\u003e\",\"legendgroup\":\"setosa\",\"marker\":{\"color\":\"#636efa\",\"symbol\":\"circle\"},\"mode\":\"markers\",\"name\":\"setosa\",\"scene\":\"scene\",\"showlegend\":true,\"x\":[5.1,4.9,4.7,4.6,5.0,5.4,4.6,5.0,4.4,4.9,5.4,4.8,4.8,4.3,5.8,5.7,5.4,5.1,5.7,5.1,5.4,5.1,4.6,5.1,4.8,5.0,5.0,5.2,5.2,4.7,4.8,5.4,5.2,5.5,4.9,5.0,5.5,4.9,4.4,5.1,5.0,4.5,4.4,5.0,5.1,4.8,5.1,4.6,5.3,5.0],\"y\":[3.5,3.0,3.2,3.1,3.6,3.9,3.4,3.4,2.9,3.1,3.7,3.4,3.0,3.0,4.0,4.4,3.9,3.5,3.8,3.8,3.4,3.7,3.6,3.3,3.4,3.0,3.4,3.5,3.4,3.2,3.1,3.4,4.1,4.2,3.1,3.2,3.5,3.1,3.0,3.4,3.5,2.3,3.2,3.5,3.8,3.0,3.8,3.2,3.7,3.3],\"z\":[0.2,0.2,0.2,0.2,0.2,0.4,0.3,0.2,0.2,0.1,0.2,0.2,0.1,0.1,0.2,0.4,0.4,0.3,0.3,0.3,0.2,0.4,0.2,0.5,0.2,0.2,0.4,0.2,0.2,0.2,0.2,0.4,0.1,0.2,0.1,0.2,0.2,0.1,0.2,0.2,0.3,0.3,0.2,0.6,0.4,0.3,0.2,0.2,0.2,0.2],\"type\":\"scatter3d\"},{\"hovertemplate\":\"species=versicolor\\u003cbr\\u003esepal_length=%{x}\\u003cbr\\u003esepal_width=%{y}\\u003cbr\\u003epetal_width=%{z}\\u003cextra\\u003e\\u003c\\u002fextra\\u003e\",\"legendgroup\":\"versicolor\",\"marker\":{\"color\":\"#EF553B\",\"symbol\":\"circle\"},\"mode\":\"markers\",\"name\":\"versicolor\",\"scene\":\"scene\",\"showlegend\":true,\"x\":[7.0,6.4,6.9,5.5,6.5,5.7,6.3,4.9,6.6,5.2,5.0,5.9,6.0,6.1,5.6,6.7,5.6,5.8,6.2,5.6,5.9,6.1,6.3,6.1,6.4,6.6,6.8,6.7,6.0,5.7,5.5,5.5,5.8,6.0,5.4,6.0,6.7,6.3,5.6,5.5,5.5,6.1,5.8,5.0,5.6,5.7,5.7,6.2,5.1,5.7],\"y\":[3.2,3.2,3.1,2.3,2.8,2.8,3.3,2.4,2.9,2.7,2.0,3.0,2.2,2.9,2.9,3.1,3.0,2.7,2.2,2.5,3.2,2.8,2.5,2.8,2.9,3.0,2.8,3.0,2.9,2.6,2.4,2.4,2.7,2.7,3.0,3.4,3.1,2.3,3.0,2.5,2.6,3.0,2.6,2.3,2.7,3.0,2.9,2.9,2.5,2.8],\"z\":[1.4,1.5,1.5,1.3,1.5,1.3,1.6,1.0,1.3,1.4,1.0,1.5,1.0,1.4,1.3,1.4,1.5,1.0,1.5,1.1,1.8,1.3,1.5,1.2,1.3,1.4,1.4,1.7,1.5,1.0,1.1,1.0,1.2,1.6,1.5,1.6,1.5,1.3,1.3,1.3,1.2,1.4,1.2,1.0,1.3,1.2,1.3,1.3,1.1,1.3],\"type\":\"scatter3d\"},{\"hovertemplate\":\"species=virginica\\u003cbr\\u003esepal_length=%{x}\\u003cbr\\u003esepal_width=%{y}\\u003cbr\\u003epetal_width=%{z}\\u003cextra\\u003e\\u003c\\u002fextra\\u003e\",\"legendgroup\":\"virginica\",\"marker\":{\"color\":\"#00cc96\",\"symbol\":\"circle\"},\"mode\":\"markers\",\"name\":\"virginica\",\"scene\":\"scene\",\"showlegend\":true,\"x\":[6.3,5.8,7.1,6.3,6.5,7.6,4.9,7.3,6.7,7.2,6.5,6.4,6.8,5.7,5.8,6.4,6.5,7.7,7.7,6.0,6.9,5.6,7.7,6.3,6.7,7.2,6.2,6.1,6.4,7.2,7.4,7.9,6.4,6.3,6.1,7.7,6.3,6.4,6.0,6.9,6.7,6.9,5.8,6.8,6.7,6.7,6.3,6.5,6.2,5.9],\"y\":[3.3,2.7,3.0,2.9,3.0,3.0,2.5,2.9,2.5,3.6,3.2,2.7,3.0,2.5,2.8,3.2,3.0,3.8,2.6,2.2,3.2,2.8,2.8,2.7,3.3,3.2,2.8,3.0,2.8,3.0,2.8,3.8,2.8,2.8,2.6,3.0,3.4,3.1,3.0,3.1,3.1,3.1,2.7,3.2,3.3,3.0,2.5,3.0,3.4,3.0],\"z\":[2.5,1.9,2.1,1.8,2.2,2.1,1.7,1.8,1.8,2.5,2.0,1.9,2.1,2.0,2.4,2.3,1.8,2.2,2.3,1.5,2.3,2.0,2.0,1.8,2.1,1.8,1.8,1.8,2.1,1.6,1.9,2.0,2.2,1.5,1.4,2.3,2.4,1.8,1.8,2.1,2.4,2.3,1.9,2.3,2.5,2.3,1.9,2.0,2.3,1.8],\"type\":\"scatter3d\"}],                        {\"template\":{\"data\":{\"histogram2dcontour\":[{\"type\":\"histogram2dcontour\",\"colorbar\":{\"outlinewidth\":0,\"ticks\":\"\"},\"colorscale\":[[0.0,\"#0d0887\"],[0.1111111111111111,\"#46039f\"],[0.2222222222222222,\"#7201a8\"],[0.3333333333333333,\"#9c179e\"],[0.4444444444444444,\"#bd3786\"],[0.5555555555555556,\"#d8576b\"],[0.6666666666666666,\"#ed7953\"],[0.7777777777777778,\"#fb9f3a\"],[0.8888888888888888,\"#fdca26\"],[1.0,\"#f0f921\"]]}],\"choropleth\":[{\"type\":\"choropleth\",\"colorbar\":{\"outlinewidth\":0,\"ticks\":\"\"}}],\"histogram2d\":[{\"type\":\"histogram2d\",\"colorbar\":{\"outlinewidth\":0,\"ticks\":\"\"},\"colorscale\":[[0.0,\"#0d0887\"],[0.1111111111111111,\"#46039f\"],[0.2222222222222222,\"#7201a8\"],[0.3333333333333333,\"#9c179e\"],[0.4444444444444444,\"#bd3786\"],[0.5555555555555556,\"#d8576b\"],[0.6666666666666666,\"#ed7953\"],[0.7777777777777778,\"#fb9f3a\"],[0.8888888888888888,\"#fdca26\"],[1.0,\"#f0f921\"]]}],\"heatmap\":[{\"type\":\"heatmap\",\"colorbar\":{\"outlinewidth\":0,\"ticks\":\"\"},\"colorscale\":[[0.0,\"#0d0887\"],[0.1111111111111111,\"#46039f\"],[0.2222222222222222,\"#7201a8\"],[0.3333333333333333,\"#9c179e\"],[0.4444444444444444,\"#bd3786\"],[0.5555555555555556,\"#d8576b\"],[0.6666666666666666,\"#ed7953\"],[0.7777777777777778,\"#fb9f3a\"],[0.8888888888888888,\"#fdca26\"],[1.0,\"#f0f921\"]]}],\"heatmapgl\":[{\"type\":\"heatmapgl\",\"colorbar\":{\"outlinewidth\":0,\"ticks\":\"\"},\"colorscale\":[[0.0,\"#0d0887\"],[0.1111111111111111,\"#46039f\"],[0.2222222222222222,\"#7201a8\"],[0.3333333333333333,\"#9c179e\"],[0.4444444444444444,\"#bd3786\"],[0.5555555555555556,\"#d8576b\"],[0.6666666666666666,\"#ed7953\"],[0.7777777777777778,\"#fb9f3a\"],[0.8888888888888888,\"#fdca26\"],[1.0,\"#f0f921\"]]}],\"contourcarpet\":[{\"type\":\"contourcarpet\",\"colorbar\":{\"outlinewidth\":0,\"ticks\":\"\"}}],\"contour\":[{\"type\":\"contour\",\"colorbar\":{\"outlinewidth\":0,\"ticks\":\"\"},\"colorscale\":[[0.0,\"#0d0887\"],[0.1111111111111111,\"#46039f\"],[0.2222222222222222,\"#7201a8\"],[0.3333333333333333,\"#9c179e\"],[0.4444444444444444,\"#bd3786\"],[0.5555555555555556,\"#d8576b\"],[0.6666666666666666,\"#ed7953\"],[0.7777777777777778,\"#fb9f3a\"],[0.8888888888888888,\"#fdca26\"],[1.0,\"#f0f921\"]]}],\"surface\":[{\"type\":\"surface\",\"colorbar\":{\"outlinewidth\":0,\"ticks\":\"\"},\"colorscale\":[[0.0,\"#0d0887\"],[0.1111111111111111,\"#46039f\"],[0.2222222222222222,\"#7201a8\"],[0.3333333333333333,\"#9c179e\"],[0.4444444444444444,\"#bd3786\"],[0.5555555555555556,\"#d8576b\"],[0.6666666666666666,\"#ed7953\"],[0.7777777777777778,\"#fb9f3a\"],[0.8888888888888888,\"#fdca26\"],[1.0,\"#f0f921\"]]}],\"mesh3d\":[{\"type\":\"mesh3d\",\"colorbar\":{\"outlinewidth\":0,\"ticks\":\"\"}}],\"scatter\":[{\"fillpattern\":{\"fillmode\":\"overlay\",\"size\":10,\"solidity\":0.2},\"type\":\"scatter\"}],\"parcoords\":[{\"type\":\"parcoords\",\"line\":{\"colorbar\":{\"outlinewidth\":0,\"ticks\":\"\"}}}],\"scatterpolargl\":[{\"type\":\"scatterpolargl\",\"marker\":{\"colorbar\":{\"outlinewidth\":0,\"ticks\":\"\"}}}],\"bar\":[{\"error_x\":{\"color\":\"#2a3f5f\"},\"error_y\":{\"color\":\"#2a3f5f\"},\"marker\":{\"line\":{\"color\":\"#E5ECF6\",\"width\":0.5},\"pattern\":{\"fillmode\":\"overlay\",\"size\":10,\"solidity\":0.2}},\"type\":\"bar\"}],\"scattergeo\":[{\"type\":\"scattergeo\",\"marker\":{\"colorbar\":{\"outlinewidth\":0,\"ticks\":\"\"}}}],\"scatterpolar\":[{\"type\":\"scatterpolar\",\"marker\":{\"colorbar\":{\"outlinewidth\":0,\"ticks\":\"\"}}}],\"histogram\":[{\"marker\":{\"pattern\":{\"fillmode\":\"overlay\",\"size\":10,\"solidity\":0.2}},\"type\":\"histogram\"}],\"scattergl\":[{\"type\":\"scattergl\",\"marker\":{\"colorbar\":{\"outlinewidth\":0,\"ticks\":\"\"}}}],\"scatter3d\":[{\"type\":\"scatter3d\",\"line\":{\"colorbar\":{\"outlinewidth\":0,\"ticks\":\"\"}},\"marker\":{\"colorbar\":{\"outlinewidth\":0,\"ticks\":\"\"}}}],\"scattermapbox\":[{\"type\":\"scattermapbox\",\"marker\":{\"colorbar\":{\"outlinewidth\":0,\"ticks\":\"\"}}}],\"scatterternary\":[{\"type\":\"scatterternary\",\"marker\":{\"colorbar\":{\"outlinewidth\":0,\"ticks\":\"\"}}}],\"scattercarpet\":[{\"type\":\"scattercarpet\",\"marker\":{\"colorbar\":{\"outlinewidth\":0,\"ticks\":\"\"}}}],\"carpet\":[{\"aaxis\":{\"endlinecolor\":\"#2a3f5f\",\"gridcolor\":\"white\",\"linecolor\":\"white\",\"minorgridcolor\":\"white\",\"startlinecolor\":\"#2a3f5f\"},\"baxis\":{\"endlinecolor\":\"#2a3f5f\",\"gridcolor\":\"white\",\"linecolor\":\"white\",\"minorgridcolor\":\"white\",\"startlinecolor\":\"#2a3f5f\"},\"type\":\"carpet\"}],\"table\":[{\"cells\":{\"fill\":{\"color\":\"#EBF0F8\"},\"line\":{\"color\":\"white\"}},\"header\":{\"fill\":{\"color\":\"#C8D4E3\"},\"line\":{\"color\":\"white\"}},\"type\":\"table\"}],\"barpolar\":[{\"marker\":{\"line\":{\"color\":\"#E5ECF6\",\"width\":0.5},\"pattern\":{\"fillmode\":\"overlay\",\"size\":10,\"solidity\":0.2}},\"type\":\"barpolar\"}],\"pie\":[{\"automargin\":true,\"type\":\"pie\"}]},\"layout\":{\"autotypenumbers\":\"strict\",\"colorway\":[\"#636efa\",\"#EF553B\",\"#00cc96\",\"#ab63fa\",\"#FFA15A\",\"#19d3f3\",\"#FF6692\",\"#B6E880\",\"#FF97FF\",\"#FECB52\"],\"font\":{\"color\":\"#2a3f5f\"},\"hovermode\":\"closest\",\"hoverlabel\":{\"align\":\"left\"},\"paper_bgcolor\":\"white\",\"plot_bgcolor\":\"#E5ECF6\",\"polar\":{\"bgcolor\":\"#E5ECF6\",\"angularaxis\":{\"gridcolor\":\"white\",\"linecolor\":\"white\",\"ticks\":\"\"},\"radialaxis\":{\"gridcolor\":\"white\",\"linecolor\":\"white\",\"ticks\":\"\"}},\"ternary\":{\"bgcolor\":\"#E5ECF6\",\"aaxis\":{\"gridcolor\":\"white\",\"linecolor\":\"white\",\"ticks\":\"\"},\"baxis\":{\"gridcolor\":\"white\",\"linecolor\":\"white\",\"ticks\":\"\"},\"caxis\":{\"gridcolor\":\"white\",\"linecolor\":\"white\",\"ticks\":\"\"}},\"coloraxis\":{\"colorbar\":{\"outlinewidth\":0,\"ticks\":\"\"}},\"colorscale\":{\"sequential\":[[0.0,\"#0d0887\"],[0.1111111111111111,\"#46039f\"],[0.2222222222222222,\"#7201a8\"],[0.3333333333333333,\"#9c179e\"],[0.4444444444444444,\"#bd3786\"],[0.5555555555555556,\"#d8576b\"],[0.6666666666666666,\"#ed7953\"],[0.7777777777777778,\"#fb9f3a\"],[0.8888888888888888,\"#fdca26\"],[1.0,\"#f0f921\"]],\"sequentialminus\":[[0.0,\"#0d0887\"],[0.1111111111111111,\"#46039f\"],[0.2222222222222222,\"#7201a8\"],[0.3333333333333333,\"#9c179e\"],[0.4444444444444444,\"#bd3786\"],[0.5555555555555556,\"#d8576b\"],[0.6666666666666666,\"#ed7953\"],[0.7777777777777778,\"#fb9f3a\"],[0.8888888888888888,\"#fdca26\"],[1.0,\"#f0f921\"]],\"diverging\":[[0,\"#8e0152\"],[0.1,\"#c51b7d\"],[0.2,\"#de77ae\"],[0.3,\"#f1b6da\"],[0.4,\"#fde0ef\"],[0.5,\"#f7f7f7\"],[0.6,\"#e6f5d0\"],[0.7,\"#b8e186\"],[0.8,\"#7fbc41\"],[0.9,\"#4d9221\"],[1,\"#276419\"]]},\"xaxis\":{\"gridcolor\":\"white\",\"linecolor\":\"white\",\"ticks\":\"\",\"title\":{\"standoff\":15},\"zerolinecolor\":\"white\",\"automargin\":true,\"zerolinewidth\":2},\"yaxis\":{\"gridcolor\":\"white\",\"linecolor\":\"white\",\"ticks\":\"\",\"title\":{\"standoff\":15},\"zerolinecolor\":\"white\",\"automargin\":true,\"zerolinewidth\":2},\"scene\":{\"xaxis\":{\"backgroundcolor\":\"#E5ECF6\",\"gridcolor\":\"white\",\"linecolor\":\"white\",\"showbackground\":true,\"ticks\":\"\",\"zerolinecolor\":\"white\",\"gridwidth\":2},\"yaxis\":{\"backgroundcolor\":\"#E5ECF6\",\"gridcolor\":\"white\",\"linecolor\":\"white\",\"showbackground\":true,\"ticks\":\"\",\"zerolinecolor\":\"white\",\"gridwidth\":2},\"zaxis\":{\"backgroundcolor\":\"#E5ECF6\",\"gridcolor\":\"white\",\"linecolor\":\"white\",\"showbackground\":true,\"ticks\":\"\",\"zerolinecolor\":\"white\",\"gridwidth\":2}},\"shapedefaults\":{\"line\":{\"color\":\"#2a3f5f\"}},\"annotationdefaults\":{\"arrowcolor\":\"#2a3f5f\",\"arrowhead\":0,\"arrowwidth\":1},\"geo\":{\"bgcolor\":\"white\",\"landcolor\":\"#E5ECF6\",\"subunitcolor\":\"white\",\"showland\":true,\"showlakes\":true,\"lakecolor\":\"white\"},\"title\":{\"x\":0.05},\"mapbox\":{\"style\":\"light\"}}},\"scene\":{\"domain\":{\"x\":[0.0,1.0],\"y\":[0.0,1.0]},\"xaxis\":{\"title\":{\"text\":\"sepal_length\"}},\"yaxis\":{\"title\":{\"text\":\"sepal_width\"}},\"zaxis\":{\"title\":{\"text\":\"petal_width\"}}},\"legend\":{\"title\":{\"text\":\"species\"},\"tracegroupgap\":0},\"title\":{\"text\":\"3D Scatter Plot of Iris Dataset\"}},                        {\"responsive\": true}                    ).then(function(){\n",
              "                            \n",
              "var gd = document.getElementById('d8b1448f-1c83-405b-97df-275400b62d34');\n",
              "var x = new MutationObserver(function (mutations, observer) {{\n",
              "        var display = window.getComputedStyle(gd).display;\n",
              "        if (!display || display === 'none') {{\n",
              "            console.log([gd, 'removed!']);\n",
              "            Plotly.purge(gd);\n",
              "            observer.disconnect();\n",
              "        }}\n",
              "}});\n",
              "\n",
              "// Listen for the removal of the full notebook cells\n",
              "var notebookContainer = gd.closest('#notebook-container');\n",
              "if (notebookContainer) {{\n",
              "    x.observe(notebookContainer, {childList: true});\n",
              "}}\n",
              "\n",
              "// Listen for the clearing of the current output cell\n",
              "var outputEl = gd.closest('.output');\n",
              "if (outputEl) {{\n",
              "    x.observe(outputEl, {childList: true});\n",
              "}}\n",
              "\n",
              "                        })                };                            </script>        </div>\n",
              "</body>\n",
              "</html>"
            ]
          },
          "metadata": {}
        }
      ]
    },
    {
      "cell_type": "code",
      "source": [],
      "metadata": {
        "id": "FvvtFCB_1fIc"
      },
      "execution_count": null,
      "outputs": []
    }
  ]
}